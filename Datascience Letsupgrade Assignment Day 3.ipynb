{
 "cells": [
  {
   "cell_type": "code",
   "execution_count": 3,
   "metadata": {},
   "outputs": [
    {
     "data": {
      "text/plain": [
       "array([ 2,  5,  8, 11, 14, 17, 20, 23, 26, 29, 32, 35, 38, 41, 44, 47])"
      ]
     },
     "execution_count": 3,
     "metadata": {},
     "output_type": "execute_result"
    }
   ],
   "source": [
    "#Question 1\n",
    "import numpy as np\n",
    "np.arange(start=2, stop=50, step=3)"
   ]
  },
  {
   "cell_type": "code",
   "execution_count": 15,
   "metadata": {},
   "outputs": [
    {
     "name": "stdout",
     "output_type": "stream",
     "text": [
      "List345\n"
     ]
    },
    {
     "data": {
      "text/plain": [
       "array([1, 2, 3, 4, 5])"
      ]
     },
     "execution_count": 15,
     "metadata": {},
     "output_type": "execute_result"
    }
   ],
   "source": [
    "#Question 2\n",
    "\n",
    "arr = [[]]\n",
    "arr = int(input(\"List\"))\n",
    "\n",
    "\n",
    "\n",
    "\n",
    "import numpy as np\n",
    "arr = np.array([[1,5,6,7,0],[2,5,8,7,6]])\n",
    "\n",
    "def selection_sort(x):\n",
    "    for i in range(len(x)):\n",
    "        swap = i + np.argmin(x[i:])\n",
    "        (x[i], x[swap]) = (x[swap], x[i])\n",
    "    return x\n",
    "\n",
    "x = np.array([2, 1, 4, 3, 5])\n",
    "selection_sort(x)"
   ]
  },
  {
   "cell_type": "code",
   "execution_count": 7,
   "metadata": {},
   "outputs": [
    {
     "name": "stdout",
     "output_type": "stream",
     "text": [
      "[0 1 2]\n",
      "[[ 0  1  2  3]\n",
      " [ 4  5  6  7]\n",
      " [ 8  9 10 11]]\n",
      "[[[ 0  1  2  3]\n",
      "  [ 4  5  6  7]\n",
      "  [ 8  9 10 11]]\n",
      "\n",
      " [[12 13 14 15]\n",
      "  [16 17 18 19]\n",
      "  [20 21 22 23]]]\n",
      "1\n",
      "<class 'int'>\n",
      "2\n",
      "3\n",
      "(3,)\n",
      "<class 'tuple'>\n",
      "(3, 4)\n",
      "(2, 3, 4)\n"
     ]
    }
   ],
   "source": [
    "#Question 3\n",
    "\n",
    "import numpy as np\n",
    "\n",
    "a_1d = np.arange(3)\n",
    "print(a_1d)\n",
    "\n",
    "\n",
    "a_2d = np.arange(12).reshape((3, 4))\n",
    "print(a_2d)\n",
    "\n",
    "\n",
    "a_3d = np.arange(24).reshape((2, 3, 4))\n",
    "print(a_3d)\n",
    "\n",
    "\n",
    "#Dimensions of an array\n",
    "\n",
    "print(a_1d.ndim)\n",
    "# 1\n",
    "\n",
    "print(type(a_1d.ndim))\n",
    "# <class 'int'>\n",
    "\n",
    "print(a_2d.ndim)\n",
    "# 2\n",
    "\n",
    "print(a_3d.ndim)\n",
    "# 3\n",
    "\n",
    "\n",
    "#Size of an array\n",
    "print(a_1d.shape)\n",
    "\n",
    "print(type(a_1d.shape))\n",
    "# <class 'tuple'>\n",
    "\n",
    "print(a_2d.shape)\n",
    "# (3, 4)\n",
    "\n",
    "print(a_3d.shape)\n",
    "# (2, 3, 4)\n",
    "\n"
   ]
  },
  {
   "cell_type": "code",
   "execution_count": 9,
   "metadata": {},
   "outputs": [
    {
     "name": "stdout",
     "output_type": "stream",
     "text": [
      "[1 2 3 4]\n",
      "[[1 2]\n",
      " [3 4]]\n"
     ]
    }
   ],
   "source": [
    "#Question 4\n",
    "\n",
    "a_1d_array = np.array([1, 2, 3, 4])\n",
    "print(a_1d_array)\n",
    "\n",
    "reshaped_to_2d = np.reshape(a_1d_array, (-1, 2))\n",
    "print(reshaped_to_2d)\n"
   ]
  },
  {
   "cell_type": "code",
   "execution_count": null,
   "metadata": {},
   "outputs": [],
   "source": []
  }
 ],
 "metadata": {
  "kernelspec": {
   "display_name": "Python 3",
   "language": "python",
   "name": "python3"
  },
  "language_info": {
   "codemirror_mode": {
    "name": "ipython",
    "version": 3
   },
   "file_extension": ".py",
   "mimetype": "text/x-python",
   "name": "python",
   "nbconvert_exporter": "python",
   "pygments_lexer": "ipython3",
   "version": "3.8.3"
  }
 },
 "nbformat": 4,
 "nbformat_minor": 4
}
